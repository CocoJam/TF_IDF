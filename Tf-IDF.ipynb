{
 "cells": [
  {
   "cell_type": "code",
   "execution_count": 1,
   "metadata": {},
   "outputs": [],
   "source": [
    "sampleA = \"Hello there how are you ?\"\n",
    "sampleB = \"Oh there you are, what are you doing ?\""
   ]
  },
  {
   "cell_type": "markdown",
   "metadata": {},
   "source": [
    "# Tokening the samples"
   ]
  },
  {
   "cell_type": "code",
   "execution_count": 2,
   "metadata": {},
   "outputs": [
    {
     "name": "stdout",
     "output_type": "stream",
     "text": [
      "['Hello', 'there', 'how', 'are', 'you', '?'] ['Oh', 'there', 'you', 'are,', 'what', 'are', 'you', 'doing', '?']\n"
     ]
    }
   ],
   "source": [
    "tokenA = sampleA.split(\" \")\n",
    "tokenB = sampleB.split(\" \")\n",
    "print (tokenA,tokenB)"
   ]
  },
  {
   "cell_type": "code",
   "execution_count": 3,
   "metadata": {},
   "outputs": [
    {
     "name": "stdout",
     "output_type": "stream",
     "text": [
      "{'Hello', 'Oh', 'there', '?', 'are', 'doing', 'are,', 'how', 'you', 'what'}\n"
     ]
    }
   ],
   "source": [
    "wordSet = set(tokenA).union(set(tokenB))\n",
    "print(wordSet)"
   ]
  },
  {
   "cell_type": "code",
   "execution_count": 4,
   "metadata": {},
   "outputs": [
    {
     "name": "stdout",
     "output_type": "stream",
     "text": [
      "{'Hello': 0, 'Oh': 0, 'there': 0, '?': 0, 'are': 0, 'doing': 0, 'are,': 0, 'how': 0, 'you': 0, 'what': 0} {'Hello': 0, 'Oh': 0, 'there': 0, '?': 0, 'are': 0, 'doing': 0, 'are,': 0, 'how': 0, 'you': 0, 'what': 0}\n"
     ]
    }
   ],
   "source": [
    "wordDictionaryA = dict.fromkeys(wordSet,0)\n",
    "wordDictionaryB = dict.fromkeys(wordSet,0)\n",
    "print(wordDictionaryA, wordDictionaryB)"
   ]
  },
  {
   "cell_type": "code",
   "execution_count": 5,
   "metadata": {},
   "outputs": [
    {
     "name": "stdout",
     "output_type": "stream",
     "text": [
      "{'Hello': 1, 'Oh': 0, 'there': 1, '?': 1, 'are': 1, 'doing': 0, 'are,': 0, 'how': 1, 'you': 1, 'what': 0} {'Hello': 0, 'Oh': 1, 'there': 1, '?': 1, 'are': 1, 'doing': 1, 'are,': 1, 'how': 0, 'you': 2, 'what': 1}\n"
     ]
    }
   ],
   "source": [
    "for word in tokenA:\n",
    "    wordDictionaryA[word] +=1\n",
    "for word in tokenB:\n",
    "    wordDictionaryB[word] +=1\n",
    "print(wordDictionaryA, wordDictionaryB)"
   ]
  },
  {
   "cell_type": "code",
   "execution_count": 6,
   "metadata": {},
   "outputs": [],
   "source": [
    "import pandas as pd\n",
    "df = pd.DataFrame([ wordDictionaryA, wordDictionaryB])"
   ]
  },
  {
   "cell_type": "markdown",
   "metadata": {},
   "source": [
    "# tf(w) * idf(w) where w is word\n",
    "tf(w) = number of times w in a doc/total words in doc.\n",
    "\n",
    "idf(w) =log(numbers of doc/numbers of doc that contains w)."
   ]
  },
  {
   "cell_type": "code",
   "execution_count": 7,
   "metadata": {},
   "outputs": [],
   "source": [
    "def tf(wordDictionary, token):\n",
    "    tfDic={}\n",
    "    tokenLength = len(token)\n",
    "    for word, count in wordDictionary.items():\n",
    "        wordDictionary[word] = count/float(tokenLength)\n",
    "    return wordDictionary"
   ]
  },
  {
   "cell_type": "code",
   "execution_count": 8,
   "metadata": {},
   "outputs": [
    {
     "name": "stdout",
     "output_type": "stream",
     "text": [
      "{'Hello': 0.16666666666666666, 'Oh': 0.0, 'there': 0.16666666666666666, '?': 0.16666666666666666, 'are': 0.16666666666666666, 'doing': 0.0, 'are,': 0.0, 'how': 0.16666666666666666, 'you': 0.16666666666666666, 'what': 0.0} {'Hello': 0.0, 'Oh': 0.1111111111111111, 'there': 0.1111111111111111, '?': 0.1111111111111111, 'are': 0.1111111111111111, 'doing': 0.1111111111111111, 'are,': 0.1111111111111111, 'how': 0.0, 'you': 0.2222222222222222, 'what': 0.1111111111111111}\n"
     ]
    }
   ],
   "source": [
    "tfOfA= tf(wordDictionaryA, tokenA)\n",
    "tfOfB= tf(wordDictionaryB, tokenB)\n",
    "print(tfOfA,tfOfB)"
   ]
  },
  {
   "cell_type": "code",
   "execution_count": 13,
   "metadata": {},
   "outputs": [],
   "source": [
    "def idf(docList):\n",
    "    import math\n",
    "    numberOfDoc = len(docList)\n",
    "    idfDoc ={}\n",
    "    idfDoc = dic.fromkeys(docList[0].keys(),0)\n",
    "    for doc in docList:\n",
    "        for word, count in doc.items():\n",
    "            if count > 0:\n",
    "                idfDoc[word] +=1\n",
    "    for word, count in idfDoc.items():\n",
    "        idfDoc[word] = math.log(numberOfDoc/float( count))\n",
    "    return idfDoc"
   ]
  },
  {
   "cell_type": "code",
   "execution_count": 14,
   "metadata": {},
   "outputs": [
    {
     "name": "stdout",
     "output_type": "stream",
     "text": [
      "[{'Hello': 0.16666666666666666, 'Oh': 0.0, 'there': 0.16666666666666666, '?': 0.16666666666666666, 'are': 0.16666666666666666, 'doing': 0.0, 'are,': 0.0, 'how': 0.16666666666666666, 'you': 0.16666666666666666, 'what': 0.0}, {'Hello': 0.0, 'Oh': 0.1111111111111111, 'there': 0.1111111111111111, '?': 0.1111111111111111, 'are': 0.1111111111111111, 'doing': 0.1111111111111111, 'are,': 0.1111111111111111, 'how': 0.0, 'you': 0.2222222222222222, 'what': 0.1111111111111111}]\n"
     ]
    }
   ],
   "source": [
    "idfs = ([wordDictionaryA,wordDictionaryB])\n",
    "print(idfs)"
   ]
  },
  {
   "cell_type": "code",
   "execution_count": 15,
   "metadata": {},
   "outputs": [],
   "source": [
    "def compScore(tf, idf):\n",
    "    scoring ={}\n",
    "    for word, val in tf.items():\n",
    "        scoring[word] = val * idf[word]\n",
    "    return scoring"
   ]
  },
  {
   "cell_type": "code",
   "execution_count": null,
   "metadata": {},
   "outputs": [],
   "source": [
    "scoreA= compScore(tfOfA,idfs)\n",
    "scoreB= compScore(tfOfB,idfs)"
   ]
  }
 ],
 "metadata": {
  "kernelspec": {
   "display_name": "Python 3",
   "language": "python",
   "name": "python3"
  },
  "language_info": {
   "codemirror_mode": {
    "name": "ipython",
    "version": 3
   },
   "file_extension": ".py",
   "mimetype": "text/x-python",
   "name": "python",
   "nbconvert_exporter": "python",
   "pygments_lexer": "ipython3",
   "version": "3.6.3"
  }
 },
 "nbformat": 4,
 "nbformat_minor": 2
}
